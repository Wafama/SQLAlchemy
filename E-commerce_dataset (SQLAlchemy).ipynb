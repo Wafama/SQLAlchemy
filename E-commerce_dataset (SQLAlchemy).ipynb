{
 "cells": [
  {
   "cell_type": "markdown",
   "id": "1311d21b-2bcc-4ff2-a893-6bacbca58205",
   "metadata": {},
   "source": [
    "This Jupyter notebook showcases fundamental SQLAlchemy skills for managing a database. It includes:\n",
    "\n",
    "1. **Database and Table Creation**: Demonstrates how to define and create tables in a SQLite database using SQLAlchemy.\n",
    "2. **Data Insertion**: Illustrates the process of inserting records into tables.\n",
    "3. **Data Update**: Shows how to update existing records based on specific conditions.\n",
    "4. **Data Deletion**: Details how to delete records from tables according to given criteria.\n",
    "\n",
    "Overall, the notebook provides a practical guide to creating, manipulating, and managing a database with SQLAlchemy"
   ]
  },
  {
   "cell_type": "code",
   "execution_count": 46,
   "id": "30d09282-dc97-41d6-83cb-234057c6a4a5",
   "metadata": {},
   "outputs": [],
   "source": [
    "from sqlalchemy import create_engine, MetaData, Table, select, func, distinct, case, cast, Float\n",
    "from sqlalchemy import delete, update, String, Integer\n",
    "import pandas as pd"
   ]
  },
  {
   "cell_type": "markdown",
   "id": "714f9bf7-9205-4c59-878c-3cde33b546e5",
   "metadata": {},
   "source": [
    "# Creating database"
   ]
  },
  {
   "cell_type": "code",
   "execution_count": 3,
   "id": "06a1c3fb-023d-4828-b4d0-ce6b7fcc2eb2",
   "metadata": {},
   "outputs": [],
   "source": [
    "# create the engine\n",
    "engine = create_engine(\"sqlite:///ecommerce.db\")\n",
    "connection = engine.connect()\n",
    "metadata = MetaData()"
   ]
  },
  {
   "cell_type": "code",
   "execution_count": 4,
   "id": "642fb492-1198-4944-8ec8-ad13426de165",
   "metadata": {},
   "outputs": [],
   "source": [
    "# create an order table\n",
    "order = Table(\"order\", metadata, \n",
    "              Column(\"order_id\", Integer(), unique=True, nullable=False), \n",
    "              Column (\"user_id\", Integer(), nullable= False), \n",
    "              Column(\"product_id\", Integer()), \n",
    "              Column (\"quantity\", Integer()), \n",
    "              Column (\"order_date\", Date()),  extend_existing=True)\n",
    "\n",
    "# create  a user table\n",
    "user = Table(\"user\", metadata, \n",
    "             Column (\"user_id\", Integer(), nullable=False), \n",
    "             Column (\"username\", String(), nullable= False), \n",
    "             Column(\"email\", String(), nullable = False), \n",
    "             Column (\"age\", Integer()), \n",
    "             Column (\"country\", String()), extend_existing = True)\n",
    "\n",
    "# create a product table \n",
    "product = Table(\"product\", metadata, \n",
    "                Column(\"product_id\", Integer(), nullable=False), \n",
    "                Column(\"product_name\", String()), \n",
    "                Column(\"price\", Float()),extend_existing = True)\n",
    "# create a payment table\n",
    "payment =  Table(\"payment\", metadata, \n",
    "                Column(\"payment_id\", Integer(), nullable=False, unique=True), \n",
    "                Column(\"order_id\",Integer(), nullable= False),\n",
    "                Column(\"payment_date\", Date(), nullable = False),\n",
    "                Column(\"amount\", Float()),\n",
    "                 Column(\"payment_method\", String()),extend_existing = True)\n",
    "\n",
    "metadata.create_all(engine)"
   ]
  },
  {
   "cell_type": "markdown",
   "id": "630fdf4f-8682-47d2-903e-2ce4c752b222",
   "metadata": {},
   "source": [
    "# Inserting data"
   ]
  },
  {
   "cell_type": "code",
   "execution_count": 5,
   "id": "dfb58b38-a21e-4b0a-8e99-e56d64d5f218",
   "metadata": {},
   "outputs": [
    {
     "name": "stdout",
     "output_type": "stream",
     "text": [
      "4\n"
     ]
    }
   ],
   "source": [
    " # Inserting order data into a table \n",
    "stmt = insert(order)\n",
    "values_list = [\n",
    "   {\"order_id\": 1001, \"user_id\": 111, \"product_id\": 1, \"quantity\": 200, \"order_date\": date(2024, 9, 1)}, \n",
    "    {\"order_id\": 1002, \"user_id\": 112, \"product_id\": 2, \"quantity\": 203, \"order_date\": date(2024, 10, 1)}, \n",
    "    {\"order_id\": 1003, \"user_id\": 113, \"product_id\": 3, \"quantity\": 560, \"order_date\": date(2023, 9, 1)}, \n",
    "    {\"order_id\": 1004, \"user_id\": 114, \"product_id\": 4, \"quantity\": 2040, \"order_date\": date(2022, 9, 1)}\n",
    "]\n",
    "result_proxy = connection.execute(stmt, values_list)\n",
    "connection.commit() \n",
    "print(result_proxy.rowcount)"
   ]
  },
  {
   "cell_type": "code",
   "execution_count": 6,
   "id": "7e047c69-eb84-4540-8e82-fa08d171583e",
   "metadata": {},
   "outputs": [
    {
     "name": "stdout",
     "output_type": "stream",
     "text": [
      "4\n"
     ]
    }
   ],
   "source": [
    " # Inserting product data into a table \n",
    "stmt = insert(product)\n",
    "values_list = [\n",
    "   {\"product_id\":1, \"product_name\": \"Laptop\", \"price\": 1569},\n",
    "    {\"product_id\":2, \"product_name\": \"Smartphone\", \"price\": 1245},\n",
    "    {\"product_id\":3, \"product_name\": \"Tablet\", \"price\": 456},\n",
    "    {\"product_id\":4, \"product_name\": \"headphones\", \"price\": 169}]\n",
    "result_proxy = connection.execute(stmt, values_list)\n",
    "connection.commit() \n",
    "print(result_proxy.rowcount)"
   ]
  },
  {
   "cell_type": "code",
   "execution_count": 7,
   "id": "50cdbda5-82df-403a-ac77-71c61040e143",
   "metadata": {},
   "outputs": [
    {
     "name": "stdout",
     "output_type": "stream",
     "text": [
      "4\n"
     ]
    }
   ],
   "source": [
    " # Inserting payment data into a table \n",
    "stmt = insert(payment)\n",
    "values_list = [\n",
    "   {\"payment_id\": 5001,\t\"order_id\": 1001, \"payment_date\":date(2024, 9, 2), \"amount\": 1234,\"payment_method\": \"Credit Card\"},\n",
    "{\"payment_id\": 5002,\t\"order_id\": 1002, \"payment_date\":date(2024, 10, 2), \"amount\": 123,\"payment_method\": \"Credit Card\"},\n",
    "{\"payment_id\": 5003,\t\"order_id\": 1003, \"payment_date\":date(2023, 9, 2), \"amount\": 300,\"payment_method\": \"PayPal\"},\n",
    "{\"payment_id\": 5004,\t\"order_id\": 1004, \"payment_date\":date(2024, 9, 2), \"amount\": 45,\"payment_method\": \"Bank Transfer\"}]\n",
    "result_proxy = connection.execute(stmt, values_list)\n",
    "connection.commit() \n",
    "print(result_proxy.rowcount)"
   ]
  },
  {
   "cell_type": "code",
   "execution_count": 9,
   "id": "ee331876-7895-49cd-ad3e-0fdca6e11594",
   "metadata": {},
   "outputs": [
    {
     "name": "stdout",
     "output_type": "stream",
     "text": [
      "4\n"
     ]
    }
   ],
   "source": [
    " # Inserting user data into a table \n",
    "stmt = insert(user)\n",
    "values_list = [\n",
    "   {\"user_id\": 111,\t\"username\":\"Maika\" , \"email\":\"Maika@.hotmail.com\", \"age\": 19, \"Country\": \"USA\"},\n",
    "{\"user_id\": 112,\t\"username\": \"Lar\", \"email\":\"lar@.hotmail.com\", \"age\": 22, \"Country\": \"Swede\"},\n",
    "{\"user_id\": 113,\t\"username\": \"Ahmed\", \"email\":\"Ahmed@.hotmail.co\", \"age\": 40, \"Country\": \"Netherlands\"},\n",
    "{\"user_id\": 114,\t\"username\": \"Amiir\", \"email\":\"Amiir@.hotmail.com\", \"age\": 65, \"Country\": \"USA\"}]\n",
    "result_proxy = connection.execute(stmt, values_list)\n",
    "connection.commit() \n",
    "print(result_proxy.rowcount)"
   ]
  },
  {
   "cell_type": "markdown",
   "id": "580c2835-a4d9-447b-8b0b-6b46fd490179",
   "metadata": {},
   "source": [
    " # Updating data in a table"
   ]
  },
  {
   "cell_type": "code",
   "execution_count": 12,
   "id": "d3e3b45b-9c1e-45a1-8028-26ee501992e4",
   "metadata": {},
   "outputs": [],
   "source": [
    "# load the tables\n",
    "engine = create_engine(\"sqlite:///ecommerce.db\")\n",
    "connection = engine.connect()\n",
    "order_table = Table(\"order\", metadata, autoload_with = engine)\n",
    "user_table = Table(\"user\", metadata, autoload_with = engine)\n",
    "product_table = Table(\"product\", metadata, autoload_with = engine)\n",
    "payment_table = Table(\"payment\", metadata, autoload_with = engine)"
   ]
  },
  {
   "cell_type": "code",
   "execution_count": 14,
   "id": "c026eaad-31b5-4c93-9666-550c560b652c",
   "metadata": {},
   "outputs": [
    {
     "name": "stdout",
     "output_type": "stream",
     "text": [
      "['order_id', 'user_id', 'product_id', 'quantity', 'order_date']\n",
      "['product_id', 'product_name', 'price']\n",
      "['user_id', 'username', 'email', 'age', 'country']\n",
      "['payment_id', 'order_id', 'payment_date', 'amount', 'payment_method']\n"
     ]
    }
   ],
   "source": [
    "# print the column names \n",
    "print(order_table.columns.keys())\n",
    "print(product_table.columns.keys())\n",
    "print(user_table.columns.keys())\n",
    "print(payment_table.columns.keys())"
   ]
  },
  {
   "cell_type": "markdown",
   "id": "281fcfde-8f6b-459c-a438-14d1e2e709fa",
   "metadata": {},
   "source": [
    "Update the mail address of the user with `user_id`112 to `lar_new@hotmail.com`."
   ]
  },
  {
   "cell_type": "code",
   "execution_count": 23,
   "id": "61deece2-d9d9-4947-95f5-b06a41784c0c",
   "metadata": {},
   "outputs": [
    {
     "name": "stdout",
     "output_type": "stream",
     "text": [
      "[(112, 'Lar', 'lar_new@hotmail.com', 22, None)]\n"
     ]
    }
   ],
   "source": [
    "# Select statement \n",
    "select_stmt = select(user_table).where(user_table.columns.user_id ==112)\n",
    "\n",
    "# Update statement\n",
    "update_stmt = update(user_table).values(email = 'lar_new@hotmail.com')\n",
    "update_stmt = update_stmt.where(user_table.columns.user_id == 112)\n",
    "\n",
    "# Execute the results\n",
    "update_results = connection.execute(update_stmt)\n",
    "\n",
    "# Execute and print the results to see the changes\n",
    "new_results = connection.execute(select_stmt).fetchall()\n",
    "print(new_results)"
   ]
  },
  {
   "cell_type": "markdown",
   "id": "99038a8c-4ba8-421b-8372-7808f1414196",
   "metadata": {},
   "source": [
    "Increase the price of all products  by `10%`."
   ]
  },
  {
   "cell_type": "code",
   "execution_count": 25,
   "id": "cd713b7b-109c-4987-ba41-95231f28149f",
   "metadata": {},
   "outputs": [
    {
     "name": "stdout",
     "output_type": "stream",
     "text": [
      "[(1, 'Laptop', 1741.5900000000001), (2, 'Smartphone', 1381.95), (3, 'Tablet', 506.16), (4, 'headphones', 187.59)]\n"
     ]
    }
   ],
   "source": [
    "# Select statement \n",
    "select_stmt = select(product_table)\n",
    "\n",
    "# Update statement \n",
    "update_stmt = update(product_table).values(price = product_table.columns.price * 1.11)\n",
    "\n",
    "# Execute the results \n",
    "update_results = connection.execute(update_stmt)\n",
    "\n",
    "# Execute and print the rsults to see the changes \n",
    "new_results = connection.execute(select_stmt).fetchall()\n",
    "print(new_results)"
   ]
  },
  {
   "cell_type": "markdown",
   "id": "f8ca02a1-9cae-46a1-962f-4d952479d2bb",
   "metadata": {},
   "source": [
    "Change the quantity of the order with `order_id 1003 to 700`."
   ]
  },
  {
   "cell_type": "code",
   "execution_count": 29,
   "id": "d4b5027a-1f13-4d5d-afae-df06ab61d953",
   "metadata": {},
   "outputs": [
    {
     "name": "stdout",
     "output_type": "stream",
     "text": [
      "[(1003, 113, 3, 700, datetime.date(2023, 9, 1))]\n"
     ]
    }
   ],
   "source": [
    "# Select statement \n",
    "select_stmt = select(order_table).where(order_table.columns.order_id == 1003)\n",
    "\n",
    "# Update statement \n",
    "update_stmt = update(order_table).values(quantity = 700).where (order_table.columns.order_id ==1003)\n",
    "\n",
    "# Execute the update statement \n",
    "update_stmt = connection.execute(update_stmt)\n",
    "\n",
    "# Execute and print the new results\n",
    "update_results = connection.execute(select_stmt).fetchall()\n",
    "print(update_results)"
   ]
  },
  {
   "cell_type": "markdown",
   "id": "4ed91024-f59e-4b81-aca9-710aba7c69ee",
   "metadata": {},
   "source": [
    "Apply a `15% discount` to the price of all products where the price is greater than $1000."
   ]
  },
  {
   "cell_type": "code",
   "execution_count": 31,
   "id": "33efab85-20fe-4ad6-b84a-e9a24245b249",
   "metadata": {},
   "outputs": [
    {
     "name": "stdout",
     "output_type": "stream",
     "text": [
      "[(1, 'Laptop', 1480.3515), (2, 'Smartphone', 1174.6575), (3, 'Tablet', 506.16), (4, 'headphones', 187.59)]\n"
     ]
    }
   ],
   "source": [
    "# Select statement \n",
    "select_stmt = select(product_table)\n",
    "\n",
    "# Update statement \n",
    "update_stmt = update(product_table).values(price = product_table.columns.price * 0.85\n",
    "                                          ).where(product_table.columns.price > 1000)\n",
    "\n",
    "# Execute the update statemnt \n",
    "update_stmt = connection.execute(update_stmt)\n",
    "\n",
    "# Execute and print the new results\n",
    "update_results = connection.execute(select_stmt).fetchall()\n",
    "print(update_results)"
   ]
  },
  {
   "cell_type": "markdown",
   "id": "e7947513-57ef-4ea8-b452-8f4afbceffc7",
   "metadata": {},
   "source": [
    "# Deleting data from a database"
   ]
  },
  {
   "cell_type": "markdown",
   "id": "69f0d649-d039-4136-b504-03d2e81a6918",
   "metadata": {},
   "source": [
    "Delete the user with `user_id = 114` from the user_table"
   ]
  },
  {
   "cell_type": "code",
   "execution_count": 37,
   "id": "26b123ee-8aa6-49c3-ab1b-d2e066b6018f",
   "metadata": {},
   "outputs": [
    {
     "data": {
      "text/plain": [
       "0"
      ]
     },
     "execution_count": 37,
     "metadata": {},
     "output_type": "execute_result"
    }
   ],
   "source": [
    "# Delete  statement \n",
    "delete_stmt = delete(user_table).where(user_table.columns.user_id == 114)\n",
    "\n",
    "# Execute the delete statement \n",
    "results = connection.execute(delete_stmt)\n",
    "\n",
    "# chekc how many rows were affected (should be 1 if the user was deleted)\n",
    "results.rowcount"
   ]
  },
  {
   "cell_type": "markdown",
   "id": "2d4a752f-391e-4c04-beab-da8893eeb4c6",
   "metadata": {},
   "source": [
    "delete all orders from the order_table that were placed before `September 5, 2023`"
   ]
  },
  {
   "cell_type": "code",
   "execution_count": 39,
   "id": "0f441692-5d28-4d4d-8442-e738c8fb8713",
   "metadata": {},
   "outputs": [
    {
     "data": {
      "text/plain": [
       "2"
      ]
     },
     "execution_count": 39,
     "metadata": {},
     "output_type": "execute_result"
    }
   ],
   "source": [
    "# Delete statement\n",
    "delete_stmt = delete (order_table).where (order_table.columns.order_date > date(2023, 9, 5))\n",
    "\n",
    "# Execute the delete statement \n",
    "results  = connection.execute(delete_stmt)\n",
    "\n",
    "# chekc how many rows were affected\n",
    "results.rowcount"
   ]
  },
  {
   "cell_type": "markdown",
   "id": "edbd0918-8cef-49dd-88fa-6fb90a0b0fc3",
   "metadata": {},
   "source": [
    "delete all orders from the order_table where the quantity is greater than `500`."
   ]
  },
  {
   "cell_type": "code",
   "execution_count": 41,
   "id": "6e327129-d974-4227-9e95-1a6460a72810",
   "metadata": {},
   "outputs": [
    {
     "data": {
      "text/plain": [
       "2"
      ]
     },
     "execution_count": 41,
     "metadata": {},
     "output_type": "execute_result"
    }
   ],
   "source": [
    "# Delete statement \n",
    "delete_stmt = delete(order_table).where(order_table.columns.quantity > 500)\n",
    "\n",
    "# Execute the delete statement \n",
    "results = connection.execute(delete_stmt)\n",
    "\n",
    "# chekc how many rows were affected\n",
    "results.rowcount\n"
   ]
  },
  {
   "cell_type": "markdown",
   "id": "ff70ee51-0b7a-4861-9fd2-66b2eb2bc378",
   "metadata": {},
   "source": [
    "delete `all records` from both the user_table and order_table to reset those tables?"
   ]
  },
  {
   "cell_type": "code",
   "execution_count": 44,
   "id": "1a2653f9-c7fb-43d2-b411-433d67563ad7",
   "metadata": {},
   "outputs": [
    {
     "data": {
      "text/plain": [
       "<sqlalchemy.engine.cursor.CursorResult at 0x21e315954e0>"
      ]
     },
     "execution_count": 44,
     "metadata": {},
     "output_type": "execute_result"
    }
   ],
   "source": [
    "# Delete all records from user_table\n",
    "delete_user_stmt = delete(user_table)\n",
    "connection.execute(delete_user_stmt)\n",
    "\n",
    "# Delete all records from order_table\n",
    "delete_order_stmt = delete(order_table)\n",
    "connection.execute(delete_order_stmt)"
   ]
  },
  {
   "cell_type": "code",
   "execution_count": null,
   "id": "9ccba27e-f687-49af-9374-6fb33de46ea7",
   "metadata": {},
   "outputs": [],
   "source": []
  },
  {
   "cell_type": "code",
   "execution_count": null,
   "id": "1754d2b1-792e-486c-9396-7b810b0ea8d7",
   "metadata": {},
   "outputs": [],
   "source": []
  }
 ],
 "metadata": {
  "kernelspec": {
   "display_name": "Python 3 (ipykernel)",
   "language": "python",
   "name": "python3"
  },
  "language_info": {
   "codemirror_mode": {
    "name": "ipython",
    "version": 3
   },
   "file_extension": ".py",
   "mimetype": "text/x-python",
   "name": "python",
   "nbconvert_exporter": "python",
   "pygments_lexer": "ipython3",
   "version": "3.11.5"
  }
 },
 "nbformat": 4,
 "nbformat_minor": 5
}
